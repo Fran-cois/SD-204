{
 "cells": [
  {
   "cell_type": "markdown",
   "metadata": {},
   "source": [
    "<h1> EXERCICE I - Analysis electricity consumption </h1>"
   ]
  },
  {
   "cell_type": "code",
   "execution_count": 1,
   "metadata": {},
   "outputs": [],
   "source": [
    "import sys\n",
    "import urllib\n",
    "import zipfile\n",
    "import pandas as pd\n",
    "import numpy as np\n",
    "import matplotlib.pyplot as plt\n",
    "import statsmodels.formula.api as sm\n",
    "import autopep8\n",
    "#import seaborn as sns\n",
    "from os import path\n",
    "from sklearn import preprocessing\n",
    "%matplotlib inline\n"
   ]
  },
  {
   "cell_type": "code",
   "execution_count": 2,
   "metadata": {},
   "outputs": [],
   "source": [
    "# download part if needed.\n",
    "url = u'https://archive.ics.uci.edu/ml/machine-learning-databases/00235/'\n",
    "url = u'http://josephsalmon.eu/enseignement/TELECOM/MDI720/datasets/'\n",
    "filename = 'household_power_consumption'\n",
    "zipfilename = filename + '.zip'\n",
    "Location = url + zipfilename\n",
    "# testing existence of file:\n",
    "if sys.version_info >= (3, 0):\n",
    "    if not(path.isfile('zipfilename')):\n",
    "        urllib.request.urlretrieve(Location, zipfilename)\n",
    "else:\n",
    "    if not(path.isfile('zipfilename')):\n",
    "        urllib.urlretrieve(Location, zipfilename)\n",
    "# unzip part\n",
    "zip = zipfile.ZipFile(zipfilename)\n",
    "zip.extractall()\n",
    "# Detect and count lines with missing values.\n",
    "na_values = ['?', '']\n",
    "fields = ['Date', 'Time', 'Global_active_power', 'Sub_metering_1']\n",
    "df = pd.read_csv(filename + '.txt', sep=';', nrows=200000,\n",
    "                 na_values=na_values, usecols=fields)\n"
   ]
  },
  {
   "cell_type": "markdown",
   "metadata": {},
   "source": [
    "<h3> Question 1_1 : Clean Data </h3>\n",
    "\n",
    "Count the number of rows where `Global_active_poweror`, `Sub_metering_1` are missing (represented\n",
    "by a \"nan\"). Remove these rows."
   ]
  },
  {
   "cell_type": "code",
   "execution_count": 3,
   "metadata": {},
   "outputs": [
    {
     "data": {
      "text/plain": [
       "Date                      0\n",
       "Time                      0\n",
       "Global_active_power    3732\n",
       "Sub_metering_1         3732\n",
       "dtype: int64"
      ]
     },
     "execution_count": 3,
     "metadata": {},
     "output_type": "execute_result"
    }
   ],
   "source": [
    "df.isnull().sum()\n"
   ]
  },
  {
   "cell_type": "code",
   "execution_count": 4,
   "metadata": {},
   "outputs": [],
   "source": [
    "df = df.dropna(how='any')\n"
   ]
  },
  {
   "cell_type": "markdown",
   "metadata": {},
   "source": [
    "<h3> Question 1_2 : Scaling </h3>\n",
    "\n",
    "Read the \"Attribute Information\" in https://archive.ics.uci.edu/ml/datasets/individual+ household+electric+power+consumption. Now scale the variable `Sub_metering_1` to have the same unit as `Global_active_power`."
   ]
  },
  {
   "cell_type": "markdown",
   "metadata": {},
   "source": [
    "We need to scale `Sub_metering_1`,in watt-hour  to the unit of `Global_active_power`, in kilowatt. For that we need to divide each value of sub_metering_1 by one thousand."
   ]
  },
  {
   "cell_type": "code",
   "execution_count": 5,
   "metadata": {},
   "outputs": [],
   "source": [
    "# solution 1 df.loc[:,'Sub_metering_1'] /= 1000\n",
    "# solution 2 df['Sub_metering_1'] = df['Sub_metering_1'].apply(lambda x: x/1000)\n",
    "df['Sub_metering_1'] = df['Sub_metering_1'].apply(lambda x: (x*60)/1000)\n"
   ]
  },
  {
   "cell_type": "markdown",
   "metadata": {},
   "source": [
    "<h3> Question 1_3: Sort by datetime </h3>\n",
    "\n",
    "Use `to_datetime` and `set_index` to create a Time Series (beware of the international dates format that is di erent from the French standard) and index your dataframe by timestamps."
   ]
  },
  {
   "cell_type": "code",
   "execution_count": 6,
   "metadata": {},
   "outputs": [],
   "source": [
    "df['Timestamp'] = pd.to_datetime(df['Date'] + ' ' + df['Time'],\n",
    "                                 format='%d/%m/%Y %H:%M:%S')\n",
    "df = df.set_index('Timestamp')"
   ]
  },
  {
   "cell_type": "markdown",
   "metadata": {},
   "source": [
    "<h3> Question 1_4: Display </h3>\n",
    "\n",
    " Display the graphic of daily averages, between `January 1 2007` and `April 30 2007`, with the variables `Global_active_power` and `Sub_metering_1` on a same  gure. Propose an explanation for the consumption behavior between `February 2` and `March 3` ? between `April 10` and `April 15` ?"
   ]
  },
  {
   "cell_type": "code",
   "execution_count": 7,
   "metadata": {},
   "outputs": [
    {
     "data": {
      "text/plain": [
       "<matplotlib.axes._subplots.AxesSubplot at 0x107777610>"
      ]
     },
     "execution_count": 7,
     "metadata": {},
     "output_type": "execute_result"
    },
    {
     "data": {
      "image/png": "[encoded data removed]",
      "text/plain": [
       "<matplotlib.figure.Figure at 0x10778bfd0>"
      ]
     },
     "metadata": {},
     "output_type": "display_data"
    }
   ],
   "source": [
    "# Between January 1 2007 and  April 30 2007\n",
    "df.loc[\"2007-01-01 00:00:00\":\n",
    "       \"2007-04-30 00:00:00\", :].plot(legend=True)\n"
   ]
  },
  {
   "cell_type": "markdown",
   "metadata": {},
   "source": [
    "I guess that Between `February 2` and `March 3` ? between `April 10` and `April 15`, people are in vacation and therefore they are not using the kitchen ( sub_metering_1 is corresponding to the kitchen )."
   ]
  },
  {
   "cell_type": "markdown",
   "metadata": {},
   "source": [
    "<h3> Question 1_5: Display a barplot by weekdays </h3>\n",
    "\n",
    "Display a barplot of the `Sub_metering_1` by weekdays. Interpret the evolution of consumption throughout the week.\n"
   ]
  },
  {
   "cell_type": "code",
   "execution_count": 8,
   "metadata": {},
   "outputs": [
    {
     "data": {
      "text/plain": [
       "<matplotlib.axes._subplots.AxesSubplot at 0x1117fe390>"
      ]
     },
     "execution_count": 8,
     "metadata": {},
     "output_type": "execute_result"
    },
    {
     "data": {
      "image/png": "[encoded data removed]",
      "text/plain": [
       "<matplotlib.figure.Figure at 0x1116b5890>"
      ]
     },
     "metadata": {},
     "output_type": "display_data"
    }
   ],
   "source": [
    "df = df.reset_index()\n",
    "df_bar = df.groupby(df['Timestamp'].dt.dayofweek).mean()\n",
    "df_bar.loc[:, \"Sub_metering_1\"].plot(kind='bar',legend=True)\n"
   ]
  },
  {
   "cell_type": "markdown",
   "metadata": {},
   "source": [
    "We can interpret that in the weekend people use more the kitchen. "
   ]
  },
  {
   "cell_type": "markdown",
   "metadata": {},
   "source": [
    "<h3> Question 1_6: Load new file </h3>\n",
    "\n",
    "\n",
    "Load the dataset with pandas, and keep only the DATE and TG columns.\n",
    "Divide by 10 the TG column to get Celsius temperature.\n",
    "Treat missing values as NaNs.\n",
    "\n"
   ]
  },
  {
   "cell_type": "code",
   "execution_count": 9,
   "metadata": {},
   "outputs": [],
   "source": [
    "# download part if needed.\n",
    "url = u'http://josephsalmon.eu/enseignement/TELECOM/MDI720/datasets/'\n",
    "filename = 'TG_STAID011249.txt'\n",
    "Location = url + filename\n",
    "# testing existence of file:\n",
    "if sys.version_info >= (3, 0):\n",
    "    if not(path.isfile('filename')):\n",
    "        urllib.request.urlretrieve(Location, filename)\n",
    "else:\n",
    "    if not(path.isfile('filename')):\n",
    "        urllib.urlretrieve(Location, filename)\n",
    "\n",
    "# Detect and count lines with missing values.\n",
    "na_values = ['-9999']\n",
    "df2 = pd.read_csv(filename, sep=',', nrows=200000,\n",
    "                  na_values=na_values, header=20, usecols=[2, 3],\n",
    "                  names=[\"DATE\", \"TG\"])\n",
    "# Removing NaN\n",
    "df2 = df2.dropna(how='any')\n",
    "# Divide by 10 the TG column \n",
    "df2['TG'] = df2['TG'].apply(lambda x: x/10)\n"
   ]
  },
  {
   "cell_type": "markdown",
   "metadata": {},
   "source": [
    "<h3> Question 1_7: Plot with temperature </h3>\n",
    "\n",
    "\n",
    "Create a pandas Time Series of the daily temperatures between January 1 2007 and April 30 2007. \n",
    "Display on the same graph the temperature and the `Global_active_power`Time Series.\n"
   ]
  },
  {
   "cell_type": "code",
   "execution_count": 10,
   "metadata": {},
   "outputs": [],
   "source": [
    "df2['Timestamp'] = pd.to_datetime(df2['DATE'], format='%Y%m%d')\n",
    "df2 = df2.set_index('Timestamp')\n",
    "df = df.set_index('Timestamp')\n"
   ]
  },
  {
   "cell_type": "code",
   "execution_count": 11,
   "metadata": {},
   "outputs": [
    {
     "data": {
      "text/plain": [
       "<matplotlib.axes._subplots.AxesSubplot at 0x10b2c8dd0>"
      ]
     },
     "execution_count": 11,
     "metadata": {},
     "output_type": "execute_result"
    },
    {
     "data": {
      "image/png": "[encoded data removed]",
      "text/plain": [
       "<matplotlib.figure.Figure at 0x112577110>"
      ]
     },
     "metadata": {},
     "output_type": "display_data"
    }
   ],
   "source": [
    "df.loc[\"2007-01-01 00:00:00\": \"2007-04-30 23:59:59\",\n",
    "       \"Global_active_power\"].plot(legend=True)\n",
    "df2.loc[\"2007-01-01\": \"2007-04-30\", \"TG\"].plot(legend=True)\n"
   ]
  },
  {
   "cell_type": "markdown",
   "metadata": {},
   "source": [
    "<h1> EXERCICE II - Analysis of the auto-mpg dataset </h1>"
   ]
  },
  {
   "cell_type": "markdown",
   "metadata": {},
   "source": [
    "<h3> Question 2_8: Import the dataset </h3>\n",
    "\n",
    "\n",
    "Import the dataset from https://archive.ics.uci.edu/ml/machine-learning-databases/ auto-mpg/auto-mpg.data-original with Pandas.\n",
    "Add columns name using the option 'name' de read_csv and consulting : https://archive.ics.uci.edu/ml/machine-learning-databases/ auto-mpg/auto-mpg.names.\n",
    "You can check the impact of using sep=r\"\\s+\".\n",
    "Is there a marker for missing values in this dataset ? If needed remove the corresponding lines."
   ]
  },
  {
   "cell_type": "code",
   "execution_count": 12,
   "metadata": {},
   "outputs": [],
   "source": [
    "# download part if needed.\n",
    "filename = \"auto-mpg.data-original\"\n",
    "Location = u'https://archive.ics.uci.edu/ml/machine-learning-databases/ \\\n",
    "             auto-mpg/'\n",
    "Location += filename\n",
    "\n",
    "# testing existence of file:\n",
    "if sys.version_info >= (3, 0):\n",
    "    if not(path.isfile(filename)):\n",
    "        urllib.request.urlretrieve(Location, filename)\n",
    "else:\n",
    "    if not(path.isfile(filename)):\n",
    "        urllib.urlretrieve(Location, filename)\n",
    "\n",
    "# Detect and count lines with missing values.\n",
    "na_values = [\"NA\"]\n",
    "df3 = pd.read_csv(filename, sep=r\"\\s+\", nrows=398,\n",
    "                  na_values=na_values,\n",
    "                  names=[\"mpg\", \"cylinders\", \"displacement\",\n",
    "                         \"horsepower\", \"weight\", \"acceleration\",\n",
    "                         \"model_year\", \"origin\", \"car_name\"])\n",
    "# Removing NaN\n",
    "df3 = df3.dropna(how='any')\n"
   ]
  },
  {
   "cell_type": "markdown",
   "metadata": {},
   "source": [
    " <h3> Question 2_9: Encode </h3>\n",
    " \n",
    " Encode the three origins ('origin' feature) with meaningful labels such that 1 stands for USA, 2\n",
    "for Europe and 3 for Japan ."
   ]
  },
  {
   "cell_type": "code",
   "execution_count": 13,
   "metadata": {},
   "outputs": [],
   "source": [
    "# function to encode number to Countries\n",
    "def encode(name):\n",
    "    if name == 1.0:\n",
    "        return \"USA\"\n",
    "    elif name == 2.0:\n",
    "        return \"Europe\"\n",
    "    elif name == 3.0:\n",
    "        return \"Japan\"\n",
    "\n",
    "df3['origin'] = df3['origin'].apply(encode)\n"
   ]
  },
  {
   "cell_type": "markdown",
   "metadata": {},
   "source": [
    "<h3> Question 2_10: least-squares estimator </h3>\n",
    "\n",
    "Get the least-squares estimator θˆ (with intercept) the prediction vector yˆ considering only the 9\n",
    " first line of the dataset.\n",
    " \n",
    "What do you observe (in particular for `cylinders` and `model year`) ?."
   ]
  },
  {
   "cell_type": "code",
   "execution_count": 14,
   "metadata": {},
   "outputs": [
    {
     "name": "stderr",
     "output_type": "stream",
     "text": [
      "/Users/famat/pythonEnv/lib/python2.7/site-packages/scipy/stats/stats.py:1390: UserWarning: kurtosistest only valid for n>=20 ... continuing anyway, n=10\n",
      "  \"anyway, n=%i\" % int(n))\n"
     ]
    },
    {
     "data": {
      "text/html": [
       "<table class=\"simpletable\">\n",
       "<caption>OLS Regression Results</caption>\n",
       "<tr>\n",
       "  <th>Dep. Variable:</th>           <td>mpg</td>       <th>  R-squared:         </th> <td>   0.857</td>\n",
       "</tr>\n",
       "<tr>\n",
       "  <th>Model:</th>                   <td>OLS</td>       <th>  Adj. R-squared:    </th> <td>   0.742</td>\n",
       "</tr>\n",
       "<tr>\n",
       "  <th>Method:</th>             <td>Least Squares</td>  <th>  F-statistic:       </th> <td>   7.469</td>\n",
       "</tr>\n",
       "<tr>\n",
       "  <th>Date:</th>             <td>Wed, 06 Dec 2017</td> <th>  Prob (F-statistic):</th>  <td>0.0244</td> \n",
       "</tr>\n",
       "<tr>\n",
       "  <th>Time:</th>                 <td>21:53:24</td>     <th>  Log-Likelihood:    </th> <td> -8.5100</td>\n",
       "</tr>\n",
       "<tr>\n",
       "  <th>No. Observations:</th>      <td>    10</td>      <th>  AIC:               </th> <td>   27.02</td>\n",
       "</tr>\n",
       "<tr>\n",
       "  <th>Df Residuals:</th>          <td>     5</td>      <th>  BIC:               </th> <td>   28.53</td>\n",
       "</tr>\n",
       "<tr>\n",
       "  <th>Df Model:</th>              <td>     4</td>      <th>                     </th>     <td> </td>   \n",
       "</tr>\n",
       "<tr>\n",
       "  <th>Covariance Type:</th>      <td>nonrobust</td>    <th>                     </th>     <td> </td>   \n",
       "</tr>\n",
       "</table>\n",
       "<table class=\"simpletable\">\n",
       "<tr>\n",
       "        <td></td>          <th>coef</th>     <th>std err</th>      <th>t</th>      <th>P>|t|</th>  <th>[0.025</th>    <th>0.975]</th>  \n",
       "</tr>\n",
       "<tr>\n",
       "  <th>Intercept</th>    <td>    0.0052</td> <td>    0.001</td> <td>    3.834</td> <td> 0.012</td> <td>    0.002</td> <td>    0.009</td>\n",
       "</tr>\n",
       "<tr>\n",
       "  <th>cylinders</th>    <td>    0.0415</td> <td>    0.011</td> <td>    3.834</td> <td> 0.012</td> <td>    0.014</td> <td>    0.069</td>\n",
       "</tr>\n",
       "<tr>\n",
       "  <th>displacement</th> <td>    0.0377</td> <td>    0.055</td> <td>    0.680</td> <td> 0.527</td> <td>   -0.105</td> <td>    0.180</td>\n",
       "</tr>\n",
       "<tr>\n",
       "  <th>horsepower</th>   <td>   -0.0867</td> <td>    0.050</td> <td>   -1.719</td> <td> 0.146</td> <td>   -0.216</td> <td>    0.043</td>\n",
       "</tr>\n",
       "<tr>\n",
       "  <th>weight</th>       <td>   -0.0021</td> <td>    0.005</td> <td>   -0.398</td> <td> 0.707</td> <td>   -0.016</td> <td>    0.011</td>\n",
       "</tr>\n",
       "<tr>\n",
       "  <th>acceleration</th> <td>   -0.0680</td> <td>    0.369</td> <td>   -0.185</td> <td> 0.861</td> <td>   -1.015</td> <td>    0.879</td>\n",
       "</tr>\n",
       "<tr>\n",
       "  <th>model_year</th>   <td>    0.3631</td> <td>    0.095</td> <td>    3.834</td> <td> 0.012</td> <td>    0.120</td> <td>    0.606</td>\n",
       "</tr>\n",
       "</table>\n",
       "<table class=\"simpletable\">\n",
       "<tr>\n",
       "  <th>Omnibus:</th>       <td> 2.589</td> <th>  Durbin-Watson:     </th> <td>   3.167</td>\n",
       "</tr>\n",
       "<tr>\n",
       "  <th>Prob(Omnibus):</th> <td> 0.274</td> <th>  Jarque-Bera (JB):  </th> <td>   0.332</td>\n",
       "</tr>\n",
       "<tr>\n",
       "  <th>Skew:</th>          <td> 0.259</td> <th>  Prob(JB):          </th> <td>   0.847</td>\n",
       "</tr>\n",
       "<tr>\n",
       "  <th>Kurtosis:</th>      <td> 3.727</td> <th>  Cond. No.          </th> <td>4.27e+19</td>\n",
       "</tr>\n",
       "</table>"
      ],
      "text/plain": [
       "<class 'statsmodels.iolib.summary.Summary'>\n",
       "\"\"\"\n",
       "                            OLS Regression Results                            \n",
       "==============================================================================\n",
       "Dep. Variable:                    mpg   R-squared:                       0.857\n",
       "Model:                            OLS   Adj. R-squared:                  0.742\n",
       "Method:                 Least Squares   F-statistic:                     7.469\n",
       "Date:                Wed, 06 Dec 2017   Prob (F-statistic):             0.0244\n",
       "Time:                        21:53:24   Log-Likelihood:                -8.5100\n",
       "No. Observations:                  10   AIC:                             27.02\n",
       "Df Residuals:                       5   BIC:                             28.53\n",
       "Df Model:                           4                                         \n",
       "Covariance Type:            nonrobust                                         \n",
       "================================================================================\n",
       "                   coef    std err          t      P>|t|      [0.025      0.975]\n",
       "--------------------------------------------------------------------------------\n",
       "Intercept        0.0052      0.001      3.834      0.012       0.002       0.009\n",
       "cylinders        0.0415      0.011      3.834      0.012       0.014       0.069\n",
       "displacement     0.0377      0.055      0.680      0.527      -0.105       0.180\n",
       "horsepower      -0.0867      0.050     -1.719      0.146      -0.216       0.043\n",
       "weight          -0.0021      0.005     -0.398      0.707      -0.016       0.011\n",
       "acceleration    -0.0680      0.369     -0.185      0.861      -1.015       0.879\n",
       "model_year       0.3631      0.095      3.834      0.012       0.120       0.606\n",
       "==============================================================================\n",
       "Omnibus:                        2.589   Durbin-Watson:                   3.167\n",
       "Prob(Omnibus):                  0.274   Jarque-Bera (JB):                0.332\n",
       "Skew:                           0.259   Prob(JB):                        0.847\n",
       "Kurtosis:                       3.727   Cond. No.                     4.27e+19\n",
       "==============================================================================\n",
       "\n",
       "Warnings:\n",
       "[1] Standard Errors assume that the covariance matrix of the errors is correctly specified.\n",
       "[2] The smallest eigenvalue is 8.44e-32. This might indicate that there are\n",
       "strong multicollinearity problems or that the design matrix is singular.\n",
       "\"\"\""
      ]
     },
     "execution_count": 14,
     "metadata": {},
     "output_type": "execute_result"
    }
   ],
   "source": [
    "# least-squares estimator\n",
    "form = \"mpg ~ cylinders + displacement + horsepower + \\\n",
    "        weight + acceleration + model_year\"\n",
    "limitLine = 9\n",
    "result = sm.ols(formula=form, data=df3.loc[:limitLine]).fit()\n",
    "result.summary()\n"
   ]
  },
  {
   "cell_type": "code",
   "execution_count": 15,
   "metadata": {},
   "outputs": [
    {
     "name": "stdout",
     "output_type": "stream",
     "text": [
      "('theta', Intercept       0.005187\n",
      "cylinders       0.041494\n",
      "displacement    0.037682\n",
      "horsepower     -0.086668\n",
      "weight         -0.002094\n",
      "acceleration   -0.068038\n",
      "model_year      0.363071\n",
      "dtype: float64)\n"
     ]
    }
   ],
   "source": [
    "print(\"theta\",result.params)\n"
   ]
  },
  {
   "cell_type": "markdown",
   "metadata": {},
   "source": [
    "We observe that for  `cylinders` and `model year` t is very high and P>|t| is low.\n",
    "We can conclude only  `cylinders` and `model year` are useful to predict the `mpg`."
   ]
  },
  {
   "cell_type": "markdown",
   "metadata": {},
   "source": [
    "<h3> Question 2_11: least-squares estimator </h3>\n",
    "\n",
    "Now, get the least-squares estimator θˆ and the prediction vector yˆ (with intercept) over the whole dataset, after performing scaling/centering (the columns must have unit standard deviation and be zero mean).\n",
    "\n",
    "Which variables seem to best explain gasoline consumption according to your model ?"
   ]
  },
  {
   "cell_type": "code",
   "execution_count": 16,
   "metadata": {},
   "outputs": [
    {
     "data": {
      "text/html": [
       "<table class=\"simpletable\">\n",
       "<caption>OLS Regression Results</caption>\n",
       "<tr>\n",
       "  <th>Dep. Variable:</th>           <td>mpg</td>       <th>  R-squared:         </th> <td>   0.808</td> \n",
       "</tr>\n",
       "<tr>\n",
       "  <th>Model:</th>                   <td>OLS</td>       <th>  Adj. R-squared:    </th> <td>   0.805</td> \n",
       "</tr>\n",
       "<tr>\n",
       "  <th>Method:</th>             <td>Least Squares</td>  <th>  F-statistic:       </th> <td>   264.6</td> \n",
       "</tr>\n",
       "<tr>\n",
       "  <th>Date:</th>             <td>Wed, 06 Dec 2017</td> <th>  Prob (F-statistic):</th> <td>8.53e-132</td>\n",
       "</tr>\n",
       "<tr>\n",
       "  <th>Time:</th>                 <td>21:53:24</td>     <th>  Log-Likelihood:    </th> <td> -227.92</td> \n",
       "</tr>\n",
       "<tr>\n",
       "  <th>No. Observations:</th>      <td>   384</td>      <th>  AIC:               </th> <td>   469.8</td> \n",
       "</tr>\n",
       "<tr>\n",
       "  <th>Df Residuals:</th>          <td>   377</td>      <th>  BIC:               </th> <td>   497.5</td> \n",
       "</tr>\n",
       "<tr>\n",
       "  <th>Df Model:</th>              <td>     6</td>      <th>                     </th>     <td> </td>    \n",
       "</tr>\n",
       "<tr>\n",
       "  <th>Covariance Type:</th>      <td>nonrobust</td>    <th>                     </th>     <td> </td>    \n",
       "</tr>\n",
       "</table>\n",
       "<table class=\"simpletable\">\n",
       "<tr>\n",
       "        <td></td>          <th>coef</th>     <th>std err</th>      <th>t</th>      <th>P>|t|</th>  <th>[0.025</th>    <th>0.975]</th>  \n",
       "</tr>\n",
       "<tr>\n",
       "  <th>Intercept</th>    <td> 3.474e-16</td> <td>    0.023</td> <td> 1.54e-14</td> <td> 1.000</td> <td>   -0.044</td> <td>    0.044</td>\n",
       "</tr>\n",
       "<tr>\n",
       "  <th>cylinders</th>    <td>   -0.0746</td> <td>    0.074</td> <td>   -1.009</td> <td> 0.313</td> <td>   -0.220</td> <td>    0.071</td>\n",
       "</tr>\n",
       "<tr>\n",
       "  <th>displacement</th> <td>    0.0885</td> <td>    0.100</td> <td>    0.885</td> <td> 0.377</td> <td>   -0.108</td> <td>    0.285</td>\n",
       "</tr>\n",
       "<tr>\n",
       "  <th>horsepower</th>   <td>   -0.0177</td> <td>    0.069</td> <td>   -0.255</td> <td> 0.799</td> <td>   -0.154</td> <td>    0.119</td>\n",
       "</tr>\n",
       "<tr>\n",
       "  <th>weight</th>       <td>   -0.7252</td> <td>    0.074</td> <td>   -9.761</td> <td> 0.000</td> <td>   -0.871</td> <td>   -0.579</td>\n",
       "</tr>\n",
       "<tr>\n",
       "  <th>acceleration</th> <td>    0.0131</td> <td>    0.037</td> <td>    0.354</td> <td> 0.723</td> <td>   -0.060</td> <td>    0.086</td>\n",
       "</tr>\n",
       "<tr>\n",
       "  <th>model_year</th>   <td>    0.3457</td> <td>    0.025</td> <td>   13.792</td> <td> 0.000</td> <td>    0.296</td> <td>    0.395</td>\n",
       "</tr>\n",
       "</table>\n",
       "<table class=\"simpletable\">\n",
       "<tr>\n",
       "  <th>Omnibus:</th>       <td>39.990</td> <th>  Durbin-Watson:     </th> <td>   1.182</td>\n",
       "</tr>\n",
       "<tr>\n",
       "  <th>Prob(Omnibus):</th> <td> 0.000</td> <th>  Jarque-Bera (JB):  </th> <td>  67.257</td>\n",
       "</tr>\n",
       "<tr>\n",
       "  <th>Skew:</th>          <td> 0.648</td> <th>  Prob(JB):          </th> <td>2.49e-15</td>\n",
       "</tr>\n",
       "<tr>\n",
       "  <th>Kurtosis:</th>      <td> 4.588</td> <th>  Cond. No.          </th> <td>    10.8</td>\n",
       "</tr>\n",
       "</table>"
      ],
      "text/plain": [
       "<class 'statsmodels.iolib.summary.Summary'>\n",
       "\"\"\"\n",
       "                            OLS Regression Results                            \n",
       "==============================================================================\n",
       "Dep. Variable:                    mpg   R-squared:                       0.808\n",
       "Model:                            OLS   Adj. R-squared:                  0.805\n",
       "Method:                 Least Squares   F-statistic:                     264.6\n",
       "Date:                Wed, 06 Dec 2017   Prob (F-statistic):          8.53e-132\n",
       "Time:                        21:53:24   Log-Likelihood:                -227.92\n",
       "No. Observations:                 384   AIC:                             469.8\n",
       "Df Residuals:                     377   BIC:                             497.5\n",
       "Df Model:                           6                                         \n",
       "Covariance Type:            nonrobust                                         \n",
       "================================================================================\n",
       "                   coef    std err          t      P>|t|      [0.025      0.975]\n",
       "--------------------------------------------------------------------------------\n",
       "Intercept     3.474e-16      0.023   1.54e-14      1.000      -0.044       0.044\n",
       "cylinders       -0.0746      0.074     -1.009      0.313      -0.220       0.071\n",
       "displacement     0.0885      0.100      0.885      0.377      -0.108       0.285\n",
       "horsepower      -0.0177      0.069     -0.255      0.799      -0.154       0.119\n",
       "weight          -0.7252      0.074     -9.761      0.000      -0.871      -0.579\n",
       "acceleration     0.0131      0.037      0.354      0.723      -0.060       0.086\n",
       "model_year       0.3457      0.025     13.792      0.000       0.296       0.395\n",
       "==============================================================================\n",
       "Omnibus:                       39.990   Durbin-Watson:                   1.182\n",
       "Prob(Omnibus):                  0.000   Jarque-Bera (JB):               67.257\n",
       "Skew:                           0.648   Prob(JB):                     2.49e-15\n",
       "Kurtosis:                       4.588   Cond. No.                         10.8\n",
       "==============================================================================\n",
       "\n",
       "Warnings:\n",
       "[1] Standard Errors assume that the covariance matrix of the errors is correctly specified.\n",
       "\"\"\""
      ]
     },
     "execution_count": 16,
     "metadata": {},
     "output_type": "execute_result"
    }
   ],
   "source": [
    "def scaleAndCenter(attributeName, df):\n",
    "    for attribute in attributeName:\n",
    "        df[attribute] = preprocessing.scale(df[attribute])\n",
    "\n",
    "NAMES = [\"mpg\", \"cylinders\", \"displacement\", \"horsepower\", \"weight\",\n",
    "         \"acceleration\", \"model_year\"]\n",
    "df4 = df3.copy()\n",
    "scaleAndCenter(NAMES, df4)\n",
    "form = \"mpg ~ cylinders + displacement + horsepower + \\\n",
    "        weight + acceleration + model_year\"\n",
    "limitLine = 9\n",
    "result = sm.ols(formula=form, data=df4).fit()\n",
    "result.summary()\n"
   ]
  },
  {
   "cell_type": "markdown",
   "metadata": {},
   "source": [
    "The variables that seem to best explain gasoline consumption  in my model are the `model_year`  and  the `weight` because of their high `t`."
   ]
  },
  {
   "cell_type": "code",
   "execution_count": 17,
   "metadata": {},
   "outputs": [
    {
     "name": "stdout",
     "output_type": "stream",
     "text": [
      "('theta', Intercept       3.473784e-16\n",
      "cylinders      -7.461851e-02\n",
      "displacement    8.845813e-02\n",
      "horsepower     -1.771125e-02\n",
      "weight         -7.252306e-01\n",
      "acceleration    1.311494e-02\n",
      "model_year      3.457150e-01\n",
      "dtype: float64)\n"
     ]
    }
   ],
   "source": [
    "print(\"theta\", result.params)\n"
   ]
  },
  {
   "cell_type": "code",
   "execution_count": 18,
   "metadata": {},
   "outputs": [
    {
     "name": "stdout",
     "output_type": "stream",
     "text": [
      "('estimator of Y:', 0     -1.043969\n",
      "1     -1.186704\n",
      "2     -0.990967\n",
      "3     -0.995377\n",
      "4     -1.013293\n",
      "5     -1.692753\n",
      "6     -1.697660\n",
      "7     -1.673899\n",
      "8     -1.754568\n",
      "9     -1.312266\n",
      "15    -1.058094\n",
      "16    -1.138383\n",
      "18    -1.205144\n",
      "19    -0.617746\n",
      "20    -0.040828\n",
      "21    -0.445688\n",
      "22    -0.395671\n",
      "23    -0.228157\n",
      "24     0.151969\n",
      "25     0.450595\n",
      "26    -0.282336\n",
      "27    -0.095238\n",
      "28    -0.038894\n",
      "29     0.062766\n",
      "30    -0.287900\n",
      "31    -1.971933\n",
      "32    -1.801913\n",
      "33    -1.809566\n",
      "34    -2.086602\n",
      "35     0.247682\n",
      "         ...   \n",
      "366    0.340031\n",
      "368    0.313418\n",
      "369    0.501435\n",
      "370    0.461409\n",
      "371    0.135371\n",
      "372   -0.097379\n",
      "373    0.427037\n",
      "374    0.103184\n",
      "375    0.934455\n",
      "376    0.899919\n",
      "377    1.105033\n",
      "378    0.944909\n",
      "379    1.006202\n",
      "380    0.848263\n",
      "381    0.720008\n",
      "383    1.444880\n",
      "384    1.411628\n",
      "385    1.455430\n",
      "386    1.323921\n",
      "387    1.327360\n",
      "388    1.294407\n",
      "389    1.251221\n",
      "390    1.231963\n",
      "391    1.447599\n",
      "392    1.450973\n",
      "393    1.427914\n",
      "394    0.590948\n",
      "395    0.614005\n",
      "396    0.962031\n",
      "397    0.718130\n",
      "Length: 384, dtype: float64)\n"
     ]
    }
   ],
   "source": [
    "print(\"estimator of Y:\", result.fittedvalues)\n"
   ]
  },
  {
   "cell_type": "markdown",
   "metadata": {},
   "source": [
    "<h3> Question 2_12:  the square norm of the residual vector </h3>"
   ]
  },
  {
   "cell_type": "code",
   "execution_count": 19,
   "metadata": {},
   "outputs": [
    {
     "name": "stdout",
     "output_type": "stream",
     "text": [
      "False\n"
     ]
    }
   ],
   "source": [
    "residNorm = np.linalg.norm(result.resid)\n",
    "yBar = df3['mpg'].mean()\n",
    "leftTerm = np.linalg.norm(df3['mpg'].apply(lambda x: x-yBar))\n",
    "rightTerm = np.linalg.norm(result.fittedvalues - yBar)\n",
    "print(np.isclose(leftTerm**2, residNorm**2 + rightTerm**2))\n"
   ]
  },
  {
   "cell_type": "markdown",
   "metadata": {},
   "source": [
    "<h3> Question 2_13: Prediction </h3>"
   ]
  },
  {
   "cell_type": "code",
   "execution_count": 20,
   "metadata": {},
   "outputs": [
    {
     "data": {
      "text/plain": [
       "28.820102996733194"
      ]
     },
     "execution_count": 20,
     "metadata": {},
     "output_type": "execute_result"
    }
   ],
   "source": [
    "NAMES = [\"cylinders\", \"displacement\", \"horsepower\",\n",
    "         \"weight\", \"acceleration\", \"model_year\"]\n",
    "\n",
    "df3.append(pd.DataFrame({\"cylinders\": [6],\n",
    "                         \"displacement\": [225],\n",
    "                         \"horsepower\": [100],\n",
    "                         \"weight\": [3233],\n",
    "                         \"acceleration\": [15.4],\n",
    "                         \"model_year\": [2017]}))\n",
    "result = sm.ols(formula=form, data=df3).fit()\n",
    "result.fittedvalues[397]\n"
   ]
  }
 ],
 "metadata": {
  "kernelspec": {
   "display_name": "Python 2",
   "language": "python",
   "name": "python2"
  },
  "language_info": {
   "codemirror_mode": {
    "name": "ipython",
    "version": 2
   },
   "file_extension": ".py",
   "mimetype": "text/x-python",
   "name": "python",
   "nbconvert_exporter": "python",
   "pygments_lexer": "ipython2",
   "version": "2.7.10"
  }
 },
 "nbformat": 4,
 "nbformat_minor": 2
}
